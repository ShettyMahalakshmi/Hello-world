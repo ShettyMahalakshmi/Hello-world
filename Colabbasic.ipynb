{
  "nbformat": 4,
  "nbformat_minor": 0,
  "metadata": {
    "colab": {
      "name": "command.ipynb",
      "provenance": [],
      "authorship_tag": "ABX9TyOtODM/9+ve6fiqJyqvV97h",
      "include_colab_link": true
    },
    "kernelspec": {
      "name": "python3",
      "display_name": "Python 3"
    },
    "accelerator": "GPU"
  },
  "cells": [
    {
      "cell_type": "markdown",
      "metadata": {
        "id": "view-in-github",
        "colab_type": "text"
      },
      "source": [
        "<a href=\"https://colab.research.google.com/github/mahalakshmishettysagar/Hello-world/blob/master/Colabbasic.ipynb\" target=\"_parent\"><img src=\"https://colab.research.google.com/assets/colab-badge.svg\" alt=\"Open In Colab\"/></a>"
      ]
    },
    {
      "cell_type": "code",
      "metadata": {
        "id": "FNdof9RKCq0j",
        "colab_type": "code",
        "colab": {
          "base_uri": "https://localhost:8080/",
          "height": 35
        },
        "outputId": "2a165f9c-ec90-49b2-d10b-788e9e7602c6"
      },
      "source": [
        "!pwd"
      ],
      "execution_count": 13,
      "outputs": [
        {
          "output_type": "stream",
          "text": [
            "/content/sample_data\n"
          ],
          "name": "stdout"
        }
      ]
    },
    {
      "cell_type": "code",
      "metadata": {
        "id": "hImYDy-ACzlB",
        "colab_type": "code",
        "colab": {
          "base_uri": "https://localhost:8080/",
          "height": 35
        },
        "outputId": "addc3793-9881-4b5a-c64c-4aa713c4c761"
      },
      "source": [
        "cd /content"
      ],
      "execution_count": 15,
      "outputs": [
        {
          "output_type": "stream",
          "text": [
            "/content\n"
          ],
          "name": "stdout"
        }
      ]
    },
    {
      "cell_type": "code",
      "metadata": {
        "id": "Xguiq2yRC6kD",
        "colab_type": "code",
        "colab": {
          "base_uri": "https://localhost:8080/",
          "height": 35
        },
        "outputId": "6cbff730-790a-4289-ca8d-247a59c95d7c"
      },
      "source": [
        "!pwd"
      ],
      "execution_count": 16,
      "outputs": [
        {
          "output_type": "stream",
          "text": [
            "/content\n"
          ],
          "name": "stdout"
        }
      ]
    },
    {
      "cell_type": "code",
      "metadata": {
        "id": "pxreJuVPC-Fd",
        "colab_type": "code",
        "colab": {
          "base_uri": "https://localhost:8080/",
          "height": 90
        },
        "outputId": "59fc6039-4b95-4917-b659-15948c4b3927"
      },
      "source": [
        "!git clone https://github.com/anujshah1003/own_data_cnn_implementation_keras"
      ],
      "execution_count": 17,
      "outputs": [
        {
          "output_type": "stream",
          "text": [
            "Cloning into 'own_data_cnn_implementation_keras'...\n",
            "remote: Enumerating objects: 51, done.\u001b[K\n",
            "remote: Total 51 (delta 0), reused 0 (delta 0), pack-reused 51\u001b[K\n",
            "Unpacking objects: 100% (51/51), done.\n"
          ],
          "name": "stdout"
        }
      ]
    },
    {
      "cell_type": "code",
      "metadata": {
        "id": "a0OOSpNrDMl7",
        "colab_type": "code",
        "colab": {
          "base_uri": "https://localhost:8080/",
          "height": 35
        },
        "outputId": "56956617-ac29-442c-be2a-8e4b52bf7818"
      },
      "source": [
        "!pwd\n"
      ],
      "execution_count": 18,
      "outputs": [
        {
          "output_type": "stream",
          "text": [
            "/content\n"
          ],
          "name": "stdout"
        }
      ]
    },
    {
      "cell_type": "code",
      "metadata": {
        "id": "hPqhAvz6DY4C",
        "colab_type": "code",
        "colab": {
          "base_uri": "https://localhost:8080/",
          "height": 35
        },
        "outputId": "f21e378e-1e69-4a77-9f62-671b344e19c9"
      },
      "source": [
        "!ls\n"
      ],
      "execution_count": 19,
      "outputs": [
        {
          "output_type": "stream",
          "text": [
            "own_data_cnn_implementation_keras  sample_data\n"
          ],
          "name": "stdout"
        }
      ]
    },
    {
      "cell_type": "code",
      "metadata": {
        "id": "bpEPtVodDisC",
        "colab_type": "code",
        "colab": {
          "base_uri": "https://localhost:8080/",
          "height": 35
        },
        "outputId": "9c47fd78-65cc-4e22-dcb0-bb3668c37dc8"
      },
      "source": [
        "cd /content/own_data_cnn_implementation_keras  "
      ],
      "execution_count": 21,
      "outputs": [
        {
          "output_type": "stream",
          "text": [
            "/content/own_data_cnn_implementation_keras\n"
          ],
          "name": "stdout"
        }
      ]
    },
    {
      "cell_type": "code",
      "metadata": {
        "id": "HPhMH71tEB_a",
        "colab_type": "code",
        "colab": {
          "base_uri": "https://localhost:8080/",
          "height": 54
        },
        "outputId": "25798e7a-b782-481a-e88a-a1966d123b7f"
      },
      "source": [
        "!ls\n"
      ],
      "execution_count": 22,
      "outputs": [
        {
          "output_type": "stream",
          "text": [
            "_config.yml\t    data.zip   updated_custom_data_cnn.py\n",
            "custom_data_cnn.py  README.md\n"
          ],
          "name": "stdout"
        }
      ]
    },
    {
      "cell_type": "code",
      "metadata": {
        "id": "MKln2AlYEIvc",
        "colab_type": "code",
        "colab": {}
      },
      "source": [
        "!rm -rf custom_data_cnn.py updated_custom_data_cnn.py"
      ],
      "execution_count": 0,
      "outputs": []
    },
    {
      "cell_type": "code",
      "metadata": {
        "id": "EcJURs3gEod0",
        "colab_type": "code",
        "colab": {}
      },
      "source": [
        "!rm -rf _config.yml README.md"
      ],
      "execution_count": 0,
      "outputs": []
    },
    {
      "cell_type": "code",
      "metadata": {
        "id": "ivkl3t4VEiD7",
        "colab_type": "code",
        "colab": {
          "base_uri": "https://localhost:8080/",
          "height": 35
        },
        "outputId": "bc891a19-9b99-4d3e-cd9c-ef406322f2ca"
      },
      "source": [
        "!ls\n"
      ],
      "execution_count": 26,
      "outputs": [
        {
          "output_type": "stream",
          "text": [
            "data.zip\n"
          ],
          "name": "stdout"
        }
      ]
    },
    {
      "cell_type": "code",
      "metadata": {
        "id": "EaWm_RGOFQ0h",
        "colab_type": "code",
        "colab": {
          "base_uri": "https://localhost:8080/",
          "height": 54
        },
        "outputId": "20e9e9aa-296d-48d6-d977-7bfd5297a710"
      },
      "source": [
        "from zipfile import ZipFile\n",
        "file_name = \"data.zip\"\n",
        "with ZipFile(file_name, 'r') as zip:\n",
        " print(\"extracting the zip file ......\")\n",
        " zip.extractall()\n",
        " print(\"done\")\n"
      ],
      "execution_count": 32,
      "outputs": [
        {
          "output_type": "stream",
          "text": [
            "extracting the zip file ......\n",
            "done\n"
          ],
          "name": "stdout"
        }
      ]
    },
    {
      "cell_type": "code",
      "metadata": {
        "id": "DbcAHHX8HBsX",
        "colab_type": "code",
        "colab": {}
      },
      "source": [
        "!rm -rf data.zip"
      ],
      "execution_count": 0,
      "outputs": []
    },
    {
      "cell_type": "code",
      "metadata": {
        "id": "hli8pEbfHLr4",
        "colab_type": "code",
        "colab": {
          "base_uri": "https://localhost:8080/",
          "height": 35
        },
        "outputId": "4e8d3ef9-7d93-4e2a-9d9d-2660be5014c4"
      },
      "source": [
        "cd /content/own_data_cnn_implementation_keras/data/"
      ],
      "execution_count": 34,
      "outputs": [
        {
          "output_type": "stream",
          "text": [
            "/content/own_data_cnn_implementation_keras/data\n"
          ],
          "name": "stdout"
        }
      ]
    },
    {
      "cell_type": "code",
      "metadata": {
        "id": "8lD82WQpHVTJ",
        "colab_type": "code",
        "colab": {
          "base_uri": "https://localhost:8080/",
          "height": 35
        },
        "outputId": "12e73404-e06b-43ab-d6ba-0e489645c987"
      },
      "source": [
        "!ls"
      ],
      "execution_count": 35,
      "outputs": [
        {
          "output_type": "stream",
          "text": [
            "cats  dogs  horses  humans\n"
          ],
          "name": "stdout"
        }
      ]
    },
    {
      "cell_type": "code",
      "metadata": {
        "id": "gc0ejqPdHZt-",
        "colab_type": "code",
        "colab": {
          "base_uri": "https://localhost:8080/",
          "height": 35
        },
        "outputId": "91412ac3-41ef-4dc3-e4ad-fa67e14c7938"
      },
      "source": [
        "cd cats/\n"
      ],
      "execution_count": 36,
      "outputs": [
        {
          "output_type": "stream",
          "text": [
            "/content/own_data_cnn_implementation_keras/data/cats\n"
          ],
          "name": "stdout"
        }
      ]
    },
    {
      "cell_type": "code",
      "metadata": {
        "id": "NwY_JuEvH-iR",
        "colab_type": "code",
        "colab": {
          "base_uri": "https://localhost:8080/",
          "height": 641
        },
        "outputId": "a416a6fb-017f-4e56-9580-675eb7705a2c"
      },
      "source": [
        "!ls\n"
      ],
      "execution_count": 37,
      "outputs": [
        {
          "output_type": "stream",
          "text": [
            "cat.100.jpg  cat.131.jpg  cat.162.jpg  cat.193.jpg  cat.40.jpg\tcat.71.jpg\n",
            "cat.101.jpg  cat.132.jpg  cat.163.jpg  cat.194.jpg  cat.41.jpg\tcat.72.jpg\n",
            "cat.102.jpg  cat.133.jpg  cat.164.jpg  cat.195.jpg  cat.42.jpg\tcat.73.jpg\n",
            "cat.103.jpg  cat.134.jpg  cat.165.jpg  cat.196.jpg  cat.43.jpg\tcat.74.jpg\n",
            "cat.104.jpg  cat.135.jpg  cat.166.jpg  cat.197.jpg  cat.44.jpg\tcat.75.jpg\n",
            "cat.105.jpg  cat.136.jpg  cat.167.jpg  cat.198.jpg  cat.45.jpg\tcat.76.jpg\n",
            "cat.106.jpg  cat.137.jpg  cat.168.jpg  cat.199.jpg  cat.46.jpg\tcat.77.jpg\n",
            "cat.107.jpg  cat.138.jpg  cat.169.jpg  cat.19.jpg   cat.47.jpg\tcat.78.jpg\n",
            "cat.108.jpg  cat.139.jpg  cat.16.jpg   cat.1.jpg    cat.48.jpg\tcat.79.jpg\n",
            "cat.109.jpg  cat.13.jpg   cat.170.jpg  cat.200.jpg  cat.49.jpg\tcat.7.jpg\n",
            "cat.10.jpg   cat.140.jpg  cat.171.jpg  cat.201.jpg  cat.4.jpg\tcat.80.jpg\n",
            "cat.110.jpg  cat.141.jpg  cat.172.jpg  cat.202.jpg  cat.50.jpg\tcat.81.jpg\n",
            "cat.111.jpg  cat.142.jpg  cat.173.jpg  cat.20.jpg   cat.51.jpg\tcat.82.jpg\n",
            "cat.112.jpg  cat.143.jpg  cat.174.jpg  cat.21.jpg   cat.52.jpg\tcat.83.jpg\n",
            "cat.113.jpg  cat.144.jpg  cat.175.jpg  cat.22.jpg   cat.53.jpg\tcat.84.jpg\n",
            "cat.114.jpg  cat.145.jpg  cat.176.jpg  cat.23.jpg   cat.54.jpg\tcat.85.jpg\n",
            "cat.115.jpg  cat.146.jpg  cat.177.jpg  cat.24.jpg   cat.55.jpg\tcat.86.jpg\n",
            "cat.116.jpg  cat.147.jpg  cat.178.jpg  cat.25.jpg   cat.56.jpg\tcat.87.jpg\n",
            "cat.117.jpg  cat.148.jpg  cat.179.jpg  cat.26.jpg   cat.57.jpg\tcat.88.jpg\n",
            "cat.118.jpg  cat.149.jpg  cat.17.jpg   cat.27.jpg   cat.58.jpg\tcat.89.jpg\n",
            "cat.119.jpg  cat.14.jpg   cat.180.jpg  cat.28.jpg   cat.59.jpg\tcat.8.jpg\n",
            "cat.11.jpg   cat.150.jpg  cat.181.jpg  cat.29.jpg   cat.5.jpg\tcat.90.jpg\n",
            "cat.120.jpg  cat.151.jpg  cat.182.jpg  cat.2.jpg    cat.60.jpg\tcat.91.jpg\n",
            "cat.121.jpg  cat.152.jpg  cat.183.jpg  cat.30.jpg   cat.61.jpg\tcat.92.jpg\n",
            "cat.122.jpg  cat.153.jpg  cat.184.jpg  cat.31.jpg   cat.62.jpg\tcat.93.jpg\n",
            "cat.123.jpg  cat.154.jpg  cat.185.jpg  cat.32.jpg   cat.63.jpg\tcat.94.jpg\n",
            "cat.124.jpg  cat.155.jpg  cat.186.jpg  cat.33.jpg   cat.64.jpg\tcat.95.jpg\n",
            "cat.125.jpg  cat.156.jpg  cat.187.jpg  cat.34.jpg   cat.65.jpg\tcat.96.jpg\n",
            "cat.126.jpg  cat.157.jpg  cat.188.jpg  cat.35.jpg   cat.66.jpg\tcat.97.jpg\n",
            "cat.127.jpg  cat.158.jpg  cat.189.jpg  cat.36.jpg   cat.67.jpg\tcat.98.jpg\n",
            "cat.128.jpg  cat.159.jpg  cat.18.jpg   cat.37.jpg   cat.68.jpg\tcat.99.jpg\n",
            "cat.129.jpg  cat.15.jpg   cat.190.jpg  cat.38.jpg   cat.69.jpg\tcat.9.jpg\n",
            "cat.12.jpg   cat.160.jpg  cat.191.jpg  cat.39.jpg   cat.6.jpg\n",
            "cat.130.jpg  cat.161.jpg  cat.192.jpg  cat.3.jpg    cat.70.jpg\n"
          ],
          "name": "stdout"
        }
      ]
    },
    {
      "cell_type": "code",
      "metadata": {
        "id": "wv1VOLHaIDHP",
        "colab_type": "code",
        "colab": {
          "base_uri": "https://localhost:8080/",
          "height": 35
        },
        "outputId": "ced74acb-daa8-4aaf-c163-5f7e1d1e358c"
      },
      "source": [
        "cd /content/own_data_cnn_implementation_keras/data/\n"
      ],
      "execution_count": 39,
      "outputs": [
        {
          "output_type": "stream",
          "text": [
            "/content/own_data_cnn_implementation_keras/data\n"
          ],
          "name": "stdout"
        }
      ]
    },
    {
      "cell_type": "code",
      "metadata": {
        "id": "B9ikx1E2ILlu",
        "colab_type": "code",
        "colab": {
          "base_uri": "https://localhost:8080/",
          "height": 35
        },
        "outputId": "a99e1e38-6a0e-40ea-937a-5b0d5b7acd83"
      },
      "source": [
        "!ls\n"
      ],
      "execution_count": 40,
      "outputs": [
        {
          "output_type": "stream",
          "text": [
            "cats  dogs  horses  humans\n"
          ],
          "name": "stdout"
        }
      ]
    },
    {
      "cell_type": "code",
      "metadata": {
        "id": "a78RPeleIPxZ",
        "colab_type": "code",
        "colab": {
          "base_uri": "https://localhost:8080/",
          "height": 35
        },
        "outputId": "afaf026a-95d5-4cdc-ca02-91e6edf447d6"
      },
      "source": [
        "cd dogs/\n"
      ],
      "execution_count": 42,
      "outputs": [
        {
          "output_type": "stream",
          "text": [
            "/content/own_data_cnn_implementation_keras/data/dogs\n"
          ],
          "name": "stdout"
        }
      ]
    },
    {
      "cell_type": "code",
      "metadata": {
        "id": "o6ZfZkDiIYwQ",
        "colab_type": "code",
        "colab": {
          "base_uri": "https://localhost:8080/",
          "height": 641
        },
        "outputId": "be984789-2c90-46cc-f01f-95de184289dc"
      },
      "source": [
        "!ls"
      ],
      "execution_count": 43,
      "outputs": [
        {
          "output_type": "stream",
          "text": [
            "dog.100.jpg  dog.131.jpg  dog.162.jpg  dog.193.jpg  dog.40.jpg\tdog.71.jpg\n",
            "dog.101.jpg  dog.132.jpg  dog.163.jpg  dog.194.jpg  dog.41.jpg\tdog.72.jpg\n",
            "dog.102.jpg  dog.133.jpg  dog.164.jpg  dog.195.jpg  dog.42.jpg\tdog.73.jpg\n",
            "dog.103.jpg  dog.134.jpg  dog.165.jpg  dog.196.jpg  dog.43.jpg\tdog.74.jpg\n",
            "dog.104.jpg  dog.135.jpg  dog.166.jpg  dog.197.jpg  dog.44.jpg\tdog.75.jpg\n",
            "dog.105.jpg  dog.136.jpg  dog.167.jpg  dog.198.jpg  dog.45.jpg\tdog.76.jpg\n",
            "dog.106.jpg  dog.137.jpg  dog.168.jpg  dog.199.jpg  dog.46.jpg\tdog.77.jpg\n",
            "dog.107.jpg  dog.138.jpg  dog.169.jpg  dog.19.jpg   dog.47.jpg\tdog.78.jpg\n",
            "dog.108.jpg  dog.139.jpg  dog.16.jpg   dog.1.jpg    dog.48.jpg\tdog.79.jpg\n",
            "dog.109.jpg  dog.13.jpg   dog.170.jpg  dog.200.jpg  dog.49.jpg\tdog.7.jpg\n",
            "dog.10.jpg   dog.140.jpg  dog.171.jpg  dog.201.jpg  dog.4.jpg\tdog.80.jpg\n",
            "dog.110.jpg  dog.141.jpg  dog.172.jpg  dog.202.jpg  dog.50.jpg\tdog.81.jpg\n",
            "dog.111.jpg  dog.142.jpg  dog.173.jpg  dog.20.jpg   dog.51.jpg\tdog.82.jpg\n",
            "dog.112.jpg  dog.143.jpg  dog.174.jpg  dog.21.jpg   dog.52.jpg\tdog.83.jpg\n",
            "dog.113.jpg  dog.144.jpg  dog.175.jpg  dog.22.jpg   dog.53.jpg\tdog.84.jpg\n",
            "dog.114.jpg  dog.145.jpg  dog.176.jpg  dog.23.jpg   dog.54.jpg\tdog.85.jpg\n",
            "dog.115.jpg  dog.146.jpg  dog.177.jpg  dog.24.jpg   dog.55.jpg\tdog.86.jpg\n",
            "dog.116.jpg  dog.147.jpg  dog.178.jpg  dog.25.jpg   dog.56.jpg\tdog.87.jpg\n",
            "dog.117.jpg  dog.148.jpg  dog.179.jpg  dog.26.jpg   dog.57.jpg\tdog.88.jpg\n",
            "dog.118.jpg  dog.149.jpg  dog.17.jpg   dog.27.jpg   dog.58.jpg\tdog.89.jpg\n",
            "dog.119.jpg  dog.14.jpg   dog.180.jpg  dog.28.jpg   dog.59.jpg\tdog.8.jpg\n",
            "dog.11.jpg   dog.150.jpg  dog.181.jpg  dog.29.jpg   dog.5.jpg\tdog.90.jpg\n",
            "dog.120.jpg  dog.151.jpg  dog.182.jpg  dog.2.jpg    dog.60.jpg\tdog.91.jpg\n",
            "dog.121.jpg  dog.152.jpg  dog.183.jpg  dog.30.jpg   dog.61.jpg\tdog.92.jpg\n",
            "dog.122.jpg  dog.153.jpg  dog.184.jpg  dog.31.jpg   dog.62.jpg\tdog.93.jpg\n",
            "dog.123.jpg  dog.154.jpg  dog.185.jpg  dog.32.jpg   dog.63.jpg\tdog.94.jpg\n",
            "dog.124.jpg  dog.155.jpg  dog.186.jpg  dog.33.jpg   dog.64.jpg\tdog.95.jpg\n",
            "dog.125.jpg  dog.156.jpg  dog.187.jpg  dog.34.jpg   dog.65.jpg\tdog.96.jpg\n",
            "dog.126.jpg  dog.157.jpg  dog.188.jpg  dog.35.jpg   dog.66.jpg\tdog.97.jpg\n",
            "dog.127.jpg  dog.158.jpg  dog.189.jpg  dog.36.jpg   dog.67.jpg\tdog.98.jpg\n",
            "dog.128.jpg  dog.159.jpg  dog.18.jpg   dog.37.jpg   dog.68.jpg\tdog.99.jpg\n",
            "dog.129.jpg  dog.15.jpg   dog.190.jpg  dog.38.jpg   dog.69.jpg\tdog.9.jpg\n",
            "dog.12.jpg   dog.160.jpg  dog.191.jpg  dog.39.jpg   dog.6.jpg\n",
            "dog.130.jpg  dog.161.jpg  dog.192.jpg  dog.3.jpg    dog.70.jpg\n"
          ],
          "name": "stdout"
        }
      ]
    }
  ]
}